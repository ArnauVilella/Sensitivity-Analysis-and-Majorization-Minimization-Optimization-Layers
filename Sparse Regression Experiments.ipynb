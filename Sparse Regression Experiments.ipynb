{
 "cells": [
  {
   "cell_type": "code",
   "id": "initial_id",
   "metadata": {
    "collapsed": true,
    "ExecuteTime": {
     "end_time": "2024-12-04T13:58:22.405577Z",
     "start_time": "2024-12-04T13:58:21.208549Z"
    }
   },
   "source": [
    "import torch\n",
    "import torch.nn as nn\n",
    "import torch.optim as optim\n",
    "from data_tools import get_data_loaders\n",
    "from models import DNNWithLASSO, MM_unrolled, MM_deq\n",
    "from fixed_point_solvers import forward_iteration, anderson\n",
    "from utils import train_model, lasso_regression_error_fixed_lambda\n",
    "\n",
    "device = torch.device(\"cuda\" if torch.cuda.is_available() else \"cpu\")"
   ],
   "outputs": [],
   "execution_count": 1
  },
  {
   "metadata": {
    "ExecuteTime": {
     "end_time": "2024-12-04T13:58:27.576534Z",
     "start_time": "2024-12-04T13:58:22.409757Z"
    }
   },
   "cell_type": "code",
   "source": [
    "dataset_params = {\"num_entries\": 10000,\n",
    "                  \"n\": 200,\n",
    "                  \"p\": 100,\n",
    "                  \"decay_rate\": 5,\n",
    "                  \"noise_std\": 1.0}\n",
    "\n",
    "hparams = {\"batch_size\": 32,\n",
    "           \"learning_rate\": 1e-3,\n",
    "           \"num_epochs\": 5,\n",
    "           \"hidden_dims\": [128, 64, 32],\n",
    "           \"input_size\": dataset_params['n']*dataset_params['p'] + dataset_params['n']}\n",
    "\n",
    "train_loader, test_loader, train_indices, test_indices = get_data_loaders(dataset_params)"
   ],
   "id": "bd8607856f810d9f",
   "outputs": [],
   "execution_count": 2
  },
  {
   "metadata": {
    "ExecuteTime": {
     "end_time": "2024-12-04T14:15:14.369773Z",
     "start_time": "2024-12-04T13:58:27.691315Z"
    }
   },
   "cell_type": "code",
   "source": [
    "# Differentiable Convex Optimization Layers\n",
    "\n",
    "model_dcol = DNNWithLASSO(hparams, dataset_params).to(device)\n",
    "criterion = nn.MSELoss()\n",
    "optimizer = optim.Adam(model_dcol.parameters(), lr=hparams[\"learning_rate\"])\n",
    "train_losses_dcol, test_losses_dcol = train_model(model_dcol, train_loader, test_loader, criterion, optimizer, num_epochs=hparams[\"num_epochs\"], device=device)"
   ],
   "id": "deb2f50fe1b58abc",
   "outputs": [
    {
     "name": "stderr",
     "output_type": "stream",
     "text": [
      "/home/avp/anaconda3/envs/pytorchgpu/lib/python3.12/site-packages/cvxpy/reductions/solvers/solving_chain.py:254: UserWarning: Your problem has too many parameters for efficient DPP compilation. We suggest setting 'ignore_dpp = True'.\n",
      "  warnings.warn(\n",
      "Epoch 1/5: 100%|██████████| 250/250 [02:22<00:00,  1.76it/s]\n"
     ]
    },
    {
     "name": "stdout",
     "output_type": "stream",
     "text": [
      "Epoch [1/5], Running Loss: 0.005255\n",
      "Train Loss: 0.008499\n",
      "Test Loss: 0.004400\n"
     ]
    },
    {
     "name": "stderr",
     "output_type": "stream",
     "text": [
      "Epoch 2/5: 100%|██████████| 250/250 [02:22<00:00,  1.76it/s]\n"
     ]
    },
    {
     "name": "stdout",
     "output_type": "stream",
     "text": [
      "Epoch [2/5], Running Loss: 0.005699\n",
      "Train Loss: 0.004925\n",
      "Test Loss: 0.004656\n"
     ]
    },
    {
     "name": "stderr",
     "output_type": "stream",
     "text": [
      "Epoch 3/5: 100%|██████████| 250/250 [02:22<00:00,  1.75it/s]\n"
     ]
    },
    {
     "name": "stdout",
     "output_type": "stream",
     "text": [
      "Epoch [3/5], Running Loss: 0.004492\n",
      "Train Loss: 0.003232\n",
      "Test Loss: 0.004973\n"
     ]
    },
    {
     "name": "stderr",
     "output_type": "stream",
     "text": [
      "Epoch 4/5: 100%|██████████| 250/250 [02:23<00:00,  1.75it/s]\n"
     ]
    },
    {
     "name": "stdout",
     "output_type": "stream",
     "text": [
      "Epoch [4/5], Running Loss: 0.003200\n",
      "Train Loss: 0.002938\n",
      "Test Loss: 0.005067\n"
     ]
    },
    {
     "name": "stderr",
     "output_type": "stream",
     "text": [
      "Epoch 5/5: 100%|██████████| 250/250 [02:23<00:00,  1.75it/s]\n"
     ]
    },
    {
     "name": "stdout",
     "output_type": "stream",
     "text": [
      "Epoch [5/5], Running Loss: 0.002899\n",
      "Train Loss: 0.002814\n",
      "Test Loss: 0.005662\n",
      "Average memory stored from forward pass: 2.62 MB\n"
     ]
    }
   ],
   "execution_count": 3
  },
  {
   "metadata": {
    "ExecuteTime": {
     "end_time": "2024-12-04T14:21:33.965234Z",
     "start_time": "2024-12-04T14:15:14.404511Z"
    }
   },
   "cell_type": "code",
   "source": [
    "# Unrolled MM\n",
    "\n",
    "model_unrolled = DNNWithLASSO(hparams, dataset_params, MM_func=MM_unrolled).to(device)\n",
    "criterion = nn.MSELoss()\n",
    "optimizer = optim.Adam(model_unrolled.parameters(), lr=hparams[\"learning_rate\"])\n",
    "train_losses_unrolled, test_losses_unrolled = train_model(model_unrolled, train_loader, test_loader, criterion, optimizer, num_epochs=hparams[\"num_epochs\"], device=device)"
   ],
   "id": "e6b42a706a3671d8",
   "outputs": [
    {
     "name": "stderr",
     "output_type": "stream",
     "text": [
      "Epoch 1/5: 100%|██████████| 250/250 [00:44<00:00,  5.60it/s]\n"
     ]
    },
    {
     "name": "stdout",
     "output_type": "stream",
     "text": [
      "Epoch [1/5], Running Loss: 0.005423\n",
      "Train Loss: 0.003362\n",
      "Test Loss: 0.004800\n"
     ]
    },
    {
     "name": "stderr",
     "output_type": "stream",
     "text": [
      "Epoch 2/5: 100%|██████████| 250/250 [00:44<00:00,  5.65it/s]\n"
     ]
    },
    {
     "name": "stdout",
     "output_type": "stream",
     "text": [
      "Epoch [2/5], Running Loss: 0.003350\n",
      "Train Loss: 0.002902\n",
      "Test Loss: 0.004828\n"
     ]
    },
    {
     "name": "stderr",
     "output_type": "stream",
     "text": [
      "Epoch 3/5: 100%|██████████| 250/250 [00:45<00:00,  5.55it/s]\n"
     ]
    },
    {
     "name": "stdout",
     "output_type": "stream",
     "text": [
      "Epoch [3/5], Running Loss: 0.002897\n",
      "Train Loss: 0.002792\n",
      "Test Loss: 0.004866\n"
     ]
    },
    {
     "name": "stderr",
     "output_type": "stream",
     "text": [
      "Epoch 4/5: 100%|██████████| 250/250 [00:45<00:00,  5.48it/s]\n"
     ]
    },
    {
     "name": "stdout",
     "output_type": "stream",
     "text": [
      "Epoch [4/5], Running Loss: 0.002787\n",
      "Train Loss: 0.002789\n",
      "Test Loss: 0.004882\n"
     ]
    },
    {
     "name": "stderr",
     "output_type": "stream",
     "text": [
      "Epoch 5/5: 100%|██████████| 250/250 [00:45<00:00,  5.52it/s]\n"
     ]
    },
    {
     "name": "stdout",
     "output_type": "stream",
     "text": [
      "Epoch [5/5], Running Loss: 0.002782\n",
      "Train Loss: 0.002807\n",
      "Test Loss: 0.004870\n",
      "Average memory stored from forward pass: 18.26 MB\n"
     ]
    }
   ],
   "execution_count": 4
  },
  {
   "metadata": {
    "ExecuteTime": {
     "end_time": "2024-12-04T14:31:49.919123Z",
     "start_time": "2024-12-04T14:26:57.376650Z"
    }
   },
   "cell_type": "code",
   "source": [
    "# Implicit MM. Forward iteration solver\n",
    "\n",
    "model_implicit_forward = DNNWithLASSO(hparams, dataset_params, MM_func=MM_deq, fixed_point_solver=forward_iteration).to(device)\n",
    "criterion = nn.MSELoss()\n",
    "optimizer = optim.Adam(model_implicit_forward.parameters(), lr=hparams[\"learning_rate\"])\n",
    "train_losses_implicit_forward, test_losses_implicit_forward = train_model(model_implicit_forward, train_loader, test_loader, criterion, optimizer, num_epochs=hparams[\"num_epochs\"], device=device)"
   ],
   "id": "d1c5b335a0106b3d",
   "outputs": [
    {
     "name": "stderr",
     "output_type": "stream",
     "text": [
      "Epoch 1/5: 100%|██████████| 250/250 [00:34<00:00,  7.17it/s]\n"
     ]
    },
    {
     "name": "stdout",
     "output_type": "stream",
     "text": [
      "Epoch [1/5], Running Loss: 0.006023\n",
      "Train Loss: 0.003580\n",
      "Test Loss: 0.004926\n"
     ]
    },
    {
     "name": "stderr",
     "output_type": "stream",
     "text": [
      "Epoch 2/5: 100%|██████████| 250/250 [00:34<00:00,  7.32it/s]\n"
     ]
    },
    {
     "name": "stdout",
     "output_type": "stream",
     "text": [
      "Epoch [2/5], Running Loss: 0.003565\n",
      "Train Loss: 0.002955\n",
      "Test Loss: 0.004803\n"
     ]
    },
    {
     "name": "stderr",
     "output_type": "stream",
     "text": [
      "Epoch 3/5: 100%|██████████| 250/250 [00:34<00:00,  7.25it/s]\n"
     ]
    },
    {
     "name": "stdout",
     "output_type": "stream",
     "text": [
      "Epoch [3/5], Running Loss: 0.002946\n",
      "Train Loss: 0.002801\n",
      "Test Loss: 0.004910\n"
     ]
    },
    {
     "name": "stderr",
     "output_type": "stream",
     "text": [
      "Epoch 4/5: 100%|██████████| 250/250 [00:34<00:00,  7.20it/s]\n"
     ]
    },
    {
     "name": "stdout",
     "output_type": "stream",
     "text": [
      "Epoch [4/5], Running Loss: 0.002793\n",
      "Train Loss: 0.002782\n",
      "Test Loss: 0.004885\n"
     ]
    },
    {
     "name": "stderr",
     "output_type": "stream",
     "text": [
      "Epoch 5/5: 100%|██████████| 250/250 [00:34<00:00,  7.27it/s]\n"
     ]
    },
    {
     "name": "stdout",
     "output_type": "stream",
     "text": [
      "Epoch [5/5], Running Loss: 0.002780\n",
      "Train Loss: 0.002795\n",
      "Test Loss: 0.004922\n",
      "Average memory stored from forward pass: 2.77 MB\n"
     ]
    }
   ],
   "execution_count": 6
  },
  {
   "metadata": {
    "ExecuteTime": {
     "end_time": "2024-12-04T14:42:30.598003Z",
     "start_time": "2024-12-04T14:31:54.791696Z"
    }
   },
   "cell_type": "code",
   "source": [
    "# Implicit MM. Anderson solver\n",
    "model_implicit_anderson = DNNWithLASSO(hparams, dataset_params, MM_func=MM_deq, fixed_point_solver=anderson).to(device)\n",
    "criterion = nn.MSELoss()\n",
    "optimizer = optim.Adam(model_implicit_anderson.parameters(), lr=hparams[\"learning_rate\"])\n",
    "train_losses_implicit_anderson, test_losses_implicit_anderson = train_model(model_implicit_anderson, train_loader, test_loader, criterion, optimizer, num_epochs=hparams[\"num_epochs\"], device=device)"
   ],
   "id": "63cb80888c401d1",
   "outputs": [
    {
     "name": "stderr",
     "output_type": "stream",
     "text": [
      "Epoch 1/5: 100%|██████████| 250/250 [01:22<00:00,  3.02it/s]\n"
     ]
    },
    {
     "name": "stdout",
     "output_type": "stream",
     "text": [
      "Epoch [1/5], Running Loss: 0.005326\n",
      "Train Loss: 0.003349\n",
      "Test Loss: 0.004700\n"
     ]
    },
    {
     "name": "stderr",
     "output_type": "stream",
     "text": [
      "Epoch 2/5: 100%|██████████| 250/250 [01:23<00:00,  3.00it/s]\n"
     ]
    },
    {
     "name": "stdout",
     "output_type": "stream",
     "text": [
      "Epoch [2/5], Running Loss: 0.003305\n",
      "Train Loss: 0.002912\n",
      "Test Loss: 0.004728\n"
     ]
    },
    {
     "name": "stderr",
     "output_type": "stream",
     "text": [
      "Epoch 3/5: 100%|██████████| 250/250 [01:24<00:00,  2.96it/s]\n"
     ]
    },
    {
     "name": "stdout",
     "output_type": "stream",
     "text": [
      "Epoch [3/5], Running Loss: 0.002896\n",
      "Train Loss: 0.002791\n",
      "Test Loss: 0.004832\n"
     ]
    },
    {
     "name": "stderr",
     "output_type": "stream",
     "text": [
      "Epoch 4/5: 100%|██████████| 250/250 [01:26<00:00,  2.90it/s]\n"
     ]
    },
    {
     "name": "stdout",
     "output_type": "stream",
     "text": [
      "Epoch [4/5], Running Loss: 0.002789\n",
      "Train Loss: 0.002816\n",
      "Test Loss: 0.004821\n"
     ]
    },
    {
     "name": "stderr",
     "output_type": "stream",
     "text": [
      "Epoch 5/5: 100%|██████████| 250/250 [01:24<00:00,  2.95it/s]\n"
     ]
    },
    {
     "name": "stdout",
     "output_type": "stream",
     "text": [
      "Epoch [5/5], Running Loss: 0.002794\n",
      "Train Loss: 0.002824\n",
      "Test Loss: 0.004843\n",
      "Average memory stored from forward pass: 2.77 MB\n"
     ]
    }
   ],
   "execution_count": 7
  },
  {
   "metadata": {
    "ExecuteTime": {
     "end_time": "2024-12-04T14:52:54.867487Z",
     "start_time": "2024-12-04T14:52:53.087872Z"
    }
   },
   "cell_type": "code",
   "source": [
    "# LASSO regression with a fixed lambda value\n",
    "\n",
    "# First, the value of 0.05 was determined using the train_loader\n",
    "lasso_regression_error_fixed_lambda(0.05, test_loader)"
   ],
   "id": "91fb47ca6618cdef",
   "outputs": [
    {
     "name": "stdout",
     "output_type": "stream",
     "text": [
      "(Lasso regression - Test Set) Average MSE with L1 penalty: 0.003893\n"
     ]
    }
   ],
   "execution_count": 8
  }
 ],
 "metadata": {
  "kernelspec": {
   "display_name": "pytorchgpu",
   "language": "python",
   "name": "pytorchgpu"
  },
  "language_info": {
   "codemirror_mode": {
    "name": "ipython",
    "version": 2
   },
   "file_extension": ".py",
   "mimetype": "text/x-python",
   "name": "python",
   "nbconvert_exporter": "python",
   "pygments_lexer": "ipython2",
   "version": "2.7.6"
  }
 },
 "nbformat": 4,
 "nbformat_minor": 5
}
